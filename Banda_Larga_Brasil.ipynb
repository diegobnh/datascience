{
 "cells": [
  {
   "cell_type": "code",
   "execution_count": 1,
   "id": "0682f341",
   "metadata": {},
   "outputs": [],
   "source": [
    "import pandas as pd\n",
    "import matplotlib.pyplot as plt\n",
    "import seaborn as sns"
   ]
  },
  {
   "cell_type": "code",
   "execution_count": 49,
   "id": "7c453e9c",
   "metadata": {},
   "outputs": [],
   "source": [
    "df = pd.read_csv(\"Acessos_Banda_Larga_Fixa_2022.csv\", sep=\";\")"
   ]
  },
  {
   "cell_type": "code",
   "execution_count": 50,
   "id": "88114b9c",
   "metadata": {},
   "outputs": [
    {
     "data": {
      "text/plain": [
       "(3203911, 15)"
      ]
     },
     "execution_count": 50,
     "metadata": {},
     "output_type": "execute_result"
    }
   ],
   "source": [
    "df.shape"
   ]
  },
  {
   "cell_type": "code",
   "execution_count": 51,
   "id": "d4197030",
   "metadata": {
    "scrolled": true
   },
   "outputs": [
    {
     "data": {
      "text/html": [
       "<div>\n",
       "<style scoped>\n",
       "    .dataframe tbody tr th:only-of-type {\n",
       "        vertical-align: middle;\n",
       "    }\n",
       "\n",
       "    .dataframe tbody tr th {\n",
       "        vertical-align: top;\n",
       "    }\n",
       "\n",
       "    .dataframe thead th {\n",
       "        text-align: right;\n",
       "    }\n",
       "</style>\n",
       "<table border=\"1\" class=\"dataframe\">\n",
       "  <thead>\n",
       "    <tr style=\"text-align: right;\">\n",
       "      <th></th>\n",
       "      <th>Ano</th>\n",
       "      <th>Mês</th>\n",
       "      <th>Grupo Econômico</th>\n",
       "      <th>Empresa</th>\n",
       "      <th>CNPJ</th>\n",
       "      <th>Porte da Prestadora</th>\n",
       "      <th>UF</th>\n",
       "      <th>Município</th>\n",
       "      <th>Código IBGE Município</th>\n",
       "      <th>Faixa de Velocidade</th>\n",
       "      <th>Velocidade</th>\n",
       "      <th>Tecnologia</th>\n",
       "      <th>Meio de Acesso</th>\n",
       "      <th>Tipo de Pessoa</th>\n",
       "      <th>Acessos</th>\n",
       "    </tr>\n",
       "  </thead>\n",
       "  <tbody>\n",
       "    <tr>\n",
       "      <th>0</th>\n",
       "      <td>2022</td>\n",
       "      <td>6</td>\n",
       "      <td>OUTROS</td>\n",
       "      <td>SINAL BR TELECOM LTDA</td>\n",
       "      <td>11871234000120</td>\n",
       "      <td>Pequeno Porte</td>\n",
       "      <td>SP</td>\n",
       "      <td>Olímpia</td>\n",
       "      <td>3533908</td>\n",
       "      <td>&gt; 34Mbps</td>\n",
       "      <td>2000,000000</td>\n",
       "      <td>ETHERNET</td>\n",
       "      <td>Fibra</td>\n",
       "      <td>Pessoa Jurídica</td>\n",
       "      <td>1</td>\n",
       "    </tr>\n",
       "    <tr>\n",
       "      <th>1</th>\n",
       "      <td>2022</td>\n",
       "      <td>6</td>\n",
       "      <td>OUTROS</td>\n",
       "      <td>COPREL TELECOM LTDA</td>\n",
       "      <td>12388471000106</td>\n",
       "      <td>Pequeno Porte</td>\n",
       "      <td>RS</td>\n",
       "      <td>Panambi</td>\n",
       "      <td>4313904</td>\n",
       "      <td>12Mbps a 34Mbps</td>\n",
       "      <td>21,000000</td>\n",
       "      <td>FTTH</td>\n",
       "      <td>Fibra</td>\n",
       "      <td>Pessoa Física</td>\n",
       "      <td>1</td>\n",
       "    </tr>\n",
       "    <tr>\n",
       "      <th>2</th>\n",
       "      <td>2022</td>\n",
       "      <td>6</td>\n",
       "      <td>OUTROS</td>\n",
       "      <td>NOVA FIBRA TELECOM S.A.</td>\n",
       "      <td>3868136000106</td>\n",
       "      <td>Pequeno Porte</td>\n",
       "      <td>PR</td>\n",
       "      <td>Bandeirantes</td>\n",
       "      <td>4102406</td>\n",
       "      <td>&gt; 34Mbps</td>\n",
       "      <td>50,000000</td>\n",
       "      <td>FTTH</td>\n",
       "      <td>Fibra</td>\n",
       "      <td>Pessoa Jurídica</td>\n",
       "      <td>110</td>\n",
       "    </tr>\n",
       "    <tr>\n",
       "      <th>3</th>\n",
       "      <td>2022</td>\n",
       "      <td>6</td>\n",
       "      <td>OUTROS</td>\n",
       "      <td>ORA SERVICOS DE TELECOMUNICACOES LTDA</td>\n",
       "      <td>22815345000136</td>\n",
       "      <td>Pequeno Porte</td>\n",
       "      <td>PI</td>\n",
       "      <td>Luís Correia</td>\n",
       "      <td>2205706</td>\n",
       "      <td>&gt; 34Mbps</td>\n",
       "      <td>310,000000</td>\n",
       "      <td>FTTH</td>\n",
       "      <td>Fibra</td>\n",
       "      <td>Pessoa Física</td>\n",
       "      <td>267</td>\n",
       "    </tr>\n",
       "    <tr>\n",
       "      <th>4</th>\n",
       "      <td>2022</td>\n",
       "      <td>6</td>\n",
       "      <td>OUTROS</td>\n",
       "      <td>WEBBY TELECOM LTDA</td>\n",
       "      <td>19534139000143</td>\n",
       "      <td>Pequeno Porte</td>\n",
       "      <td>PR</td>\n",
       "      <td>Santo Antônio da Platina</td>\n",
       "      <td>4124103</td>\n",
       "      <td>&gt; 34Mbps</td>\n",
       "      <td>100,000000</td>\n",
       "      <td>FTTH</td>\n",
       "      <td>Fibra</td>\n",
       "      <td>Pessoa Jurídica</td>\n",
       "      <td>12</td>\n",
       "    </tr>\n",
       "  </tbody>\n",
       "</table>\n",
       "</div>"
      ],
      "text/plain": [
       "    Ano  Mês Grupo Econômico                                Empresa  \\\n",
       "0  2022    6          OUTROS                  SINAL BR TELECOM LTDA   \n",
       "1  2022    6          OUTROS                    COPREL TELECOM LTDA   \n",
       "2  2022    6          OUTROS                NOVA FIBRA TELECOM S.A.   \n",
       "3  2022    6          OUTROS  ORA SERVICOS DE TELECOMUNICACOES LTDA   \n",
       "4  2022    6          OUTROS                     WEBBY TELECOM LTDA   \n",
       "\n",
       "             CNPJ Porte da Prestadora  UF                 Município  \\\n",
       "0  11871234000120       Pequeno Porte  SP                   Olímpia   \n",
       "1  12388471000106       Pequeno Porte  RS                   Panambi   \n",
       "2   3868136000106       Pequeno Porte  PR              Bandeirantes   \n",
       "3  22815345000136       Pequeno Porte  PI              Luís Correia   \n",
       "4  19534139000143       Pequeno Porte  PR  Santo Antônio da Platina   \n",
       "\n",
       "   Código IBGE Município Faixa de Velocidade   Velocidade Tecnologia  \\\n",
       "0                3533908            > 34Mbps  2000,000000   ETHERNET   \n",
       "1                4313904     12Mbps a 34Mbps    21,000000       FTTH   \n",
       "2                4102406            > 34Mbps    50,000000       FTTH   \n",
       "3                2205706            > 34Mbps   310,000000       FTTH   \n",
       "4                4124103            > 34Mbps   100,000000       FTTH   \n",
       "\n",
       "  Meio de Acesso   Tipo de Pessoa  Acessos  \n",
       "0          Fibra  Pessoa Jurídica        1  \n",
       "1          Fibra    Pessoa Física        1  \n",
       "2          Fibra  Pessoa Jurídica      110  \n",
       "3          Fibra    Pessoa Física      267  \n",
       "4          Fibra  Pessoa Jurídica       12  "
      ]
     },
     "execution_count": 51,
     "metadata": {},
     "output_type": "execute_result"
    }
   ],
   "source": [
    "df.head()"
   ]
  },
  {
   "cell_type": "markdown",
   "id": "c5d54666",
   "metadata": {},
   "source": [
    "## Olha aí Fuezi a fibra crescendo no nosso país. A tendência é que cada vez mais teremos uma migração da tecnologia de par trançado/cobre (ETHERNET) para a FTTH."
   ]
  },
  {
   "cell_type": "code",
   "execution_count": 52,
   "id": "583b68bd",
   "metadata": {},
   "outputs": [
    {
     "data": {
      "image/png": "[encoded data removed]",
      "text/plain": [
       "<Figure size 1080x432 with 1 Axes>"
      ]
     },
     "metadata": {
      "needs_background": "light"
     },
     "output_type": "display_data"
    }
   ],
   "source": [
    "plt.figure(figsize=(15,6))\n",
    "df[\"Tecnologia\"].value_counts(normalize=True).mul(100).plot(kind='bar')\n",
    "plt.show()"
   ]
  },
  {
   "cell_type": "markdown",
   "id": "4ac0bed9",
   "metadata": {},
   "source": [
    "## Eu decidir fazer uma análise exploratória apenas da tecnologia de fibra e das grandes operadores, no caso TIM, CLARO, VIVO e OI."
   ]
  },
  {
   "cell_type": "code",
   "execution_count": 53,
   "id": "98c9d9b6",
   "metadata": {},
   "outputs": [],
   "source": [
    "df = df.loc[df[\"Tecnologia\"] == \"FTTH\"]"
   ]
  },
  {
   "cell_type": "code",
   "execution_count": 54,
   "id": "8e820f2c",
   "metadata": {},
   "outputs": [],
   "source": [
    "df = df.loc[df[\"Porte da Prestadora\"] == \"Grande Porte\"]"
   ]
  },
  {
   "cell_type": "code",
   "execution_count": 55,
   "id": "e9e13cb4",
   "metadata": {},
   "outputs": [
    {
     "name": "stdout",
     "output_type": "stream",
     "text": [
      "<class 'pandas.core.frame.DataFrame'>\n",
      "Int64Index: 168878 entries, 10 to 3146946\n",
      "Data columns (total 15 columns):\n",
      " #   Column                 Non-Null Count   Dtype \n",
      "---  ------                 --------------   ----- \n",
      " 0   Ano                    168878 non-null  int64 \n",
      " 1   Mês                    168878 non-null  int64 \n",
      " 2   Grupo Econômico        168878 non-null  object\n",
      " 3   Empresa                168878 non-null  object\n",
      " 4   CNPJ                   168878 non-null  int64 \n",
      " 5   Porte da Prestadora    168878 non-null  object\n",
      " 6   UF                     168878 non-null  object\n",
      " 7   Município              168878 non-null  object\n",
      " 8   Código IBGE Município  168878 non-null  int64 \n",
      " 9   Faixa de Velocidade    168878 non-null  object\n",
      " 10  Velocidade             168878 non-null  object\n",
      " 11  Tecnologia             168878 non-null  object\n",
      " 12  Meio de Acesso         168878 non-null  object\n",
      " 13  Tipo de Pessoa         168878 non-null  object\n",
      " 14  Acessos                168878 non-null  int64 \n",
      "dtypes: int64(5), object(10)\n",
      "memory usage: 20.6+ MB\n"
     ]
    }
   ],
   "source": [
    "df.info()"
   ]
  },
  {
   "cell_type": "markdown",
   "id": "8b8b19b1",
   "metadata": {},
   "source": [
    "## Quando analisamos o número de acessos por empresa, podemos ver que a Vivo está na frente, seguido da Oi."
   ]
  },
  {
   "cell_type": "code",
   "execution_count": 71,
   "id": "da08acc2",
   "metadata": {},
   "outputs": [
    {
     "data": {
      "text/plain": [
       "Empresa\n",
       "CLARO     4089323\n",
       "OI       21064309\n",
       "TIM       2702521\n",
       "VIVO     29214658\n",
       "Name: Acessos, dtype: int64"
      ]
     },
     "execution_count": 71,
     "metadata": {},
     "output_type": "execute_result"
    }
   ],
   "source": [
    "df.groupby([\"Empresa\"])[\"Acessos\"].sum()"
   ]
  },
  {
   "cell_type": "markdown",
   "id": "a2bfd3ff",
   "metadata": {},
   "source": [
    "## Aqui na Bahia por exemplo, a Oi disparou."
   ]
  },
  {
   "cell_type": "code",
   "execution_count": 60,
   "id": "227d4239",
   "metadata": {},
   "outputs": [],
   "source": [
    "df2 = df.loc[df[\"UF\"] == \"BA\"]"
   ]
  },
  {
   "cell_type": "code",
   "execution_count": 70,
   "id": "8ff627f1",
   "metadata": {},
   "outputs": [
    {
     "data": {
      "text/plain": [
       "Empresa\n",
       "CLARO     230548\n",
       "OI       1085460\n",
       "TIM       353083\n",
       "VIVO      457376\n",
       "Name: Acessos, dtype: int64"
      ]
     },
     "execution_count": 70,
     "metadata": {},
     "output_type": "execute_result"
    }
   ],
   "source": [
    "df2.groupby([\"Empresa\"])[\"Acessos\"].sum()"
   ]
  },
  {
   "cell_type": "code",
   "execution_count": 75,
   "id": "111056fe",
   "metadata": {},
   "outputs": [
    {
     "data": {
      "text/plain": [
       "array(['Mairi', 'Feira de Santana', 'Prado', 'Quijingue', 'Itamaraju',\n",
       "       'Valente', 'Guanambi', 'Terra Nova', 'Camaçari', 'Jequié',\n",
       "       'Lauro de Freitas', 'Baixa Grande', 'Itapetinga', 'Porto Seguro',\n",
       "       'Ilhéus', 'Teixeira de Freitas', 'Barreiras', 'Itabuna',\n",
       "       'Eunápolis', 'Belmonte', 'Cruz das Almas', 'Vitória da Conquista',\n",
       "       'Salvador', 'Barra do Choça', 'Santo Antônio de Jesus',\n",
       "       'Paulo Afonso', 'Itaju do Colônia', 'Castro Alves', 'Anguera',\n",
       "       'Nazaré', 'Luís Eduardo Magalhães', 'Juazeiro', 'Curaçá',\n",
       "       'Candeias', 'Rio Real', 'Boa Vista do Tupim', 'Amélia Rodrigues',\n",
       "       'Ibipeba', 'Valença', 'Dário Meira', 'Camacan', 'Santo Amaro',\n",
       "       'Santa Maria da Vitória', 'São Sebastião do Passé',\n",
       "       'Santa Rita de Cássia', 'Ituaçu', 'Brumado', 'Catu',\n",
       "       'Palmas de Monte Alto', 'Pojuca', 'Presidente Tancredo Neves',\n",
       "       'Quixabeira', 'Teolândia', 'Macarani', 'Mucuri', 'Ibirapitanga',\n",
       "       'Iramaia', 'Simões Filho', 'Itapitanga', 'Buerarema', 'Cairu',\n",
       "       'Sapeaçu', \"Dias d'Ávila\", 'Itabela', 'Remanso',\n",
       "       'Conceição do Coité', 'Itajuípe', 'Bom Jesus da Lapa',\n",
       "       'Alagoinhas', 'Serrinha', 'Coaraci', 'Mata de São João', 'Seabra',\n",
       "       'Ibirataia', 'Caturama', 'Pindobaçu', 'Ipupiara', 'Poções',\n",
       "       'Muritiba', 'Pedro Alexandre', 'Senhor do Bonfim',\n",
       "       'Rio do Antônio', 'Almadina', 'Marcionílio Souza', 'Maragogipe',\n",
       "       'Jacobina', 'Brejolândia', 'Sítio do Quinto', 'Anagé', 'Esplanada',\n",
       "       'Acajutiba', 'Taperoá', 'São Gabriel', 'Itagi', 'Santaluz',\n",
       "       'Medeiros Neto', 'Cícero Dantas', 'Santana', 'Ubaíra',\n",
       "       'Manoel Vitorino', 'Itambé', 'Inhambupe', 'Itanhém', 'Ipirá',\n",
       "       'Pé de Serra', 'Cachoeira', 'Camamu', 'Monte Santo',\n",
       "       'Serra do Ramalho', 'Caculé', 'Madre de Deus', 'Miguel Calmon',\n",
       "       'Campo Alegre de Lourdes', 'Ribeira do Pombal', 'Elísio Medrado',\n",
       "       'Alcobaça', 'São Gonçalo dos Campos', 'Gentio do Ouro',\n",
       "       'Santo Estêvão', 'Tucano', 'Jandaíra', 'Nova Canaã',\n",
       "       'Malhada de Pedras', 'Cabaceiras do Paraguaçu', 'Vera Cruz',\n",
       "       'Aurelino Leal', 'Ourolândia', 'Igrapiúna', 'Ruy Barbosa', 'Uibaí',\n",
       "       'Itagibá', 'Caatiba', 'Nova Viçosa', 'Iguaí', 'Ipiaú',\n",
       "       'Jaguaquara', 'Amargosa', 'Conceição do Almeida', 'Irará',\n",
       "       'Rio de Contas', 'São Francisco do Conde', 'Iaçu', 'Milagres',\n",
       "       'Itagimirim', 'Piatã', 'Tremedal', 'Coronel João Sá',\n",
       "       'Sebastião Laranjeiras', 'Adustina', 'Gandu', 'Maracás',\n",
       "       'Itaparica', 'São Felipe', 'Lapão', 'Irecê', 'Campo Formoso',\n",
       "       'Riachão do Jacuípe', 'Una', 'São Félix', 'São Desidério',\n",
       "       'Sento Sé', 'Sítio do Mato', 'Caravelas', 'São José do Jacuípe',\n",
       "       'Paratinga', 'Gongogi', 'Caetité', 'Aporá', 'Tanhaçu', 'Urandi',\n",
       "       'Ibicoara', 'Boa Nova', 'Riachão das Neves', 'Pilão Arcado',\n",
       "       'Piraí do Norte', 'Macaúbas', 'Brejões', 'Araci', 'Cristópolis',\n",
       "       'Sátiro Dias', 'Conceição do Jacuípe', 'Presidente Jânio Quadros',\n",
       "       'Itororó', 'Jussara', 'Licínio de Almeida', 'Ibiassucê', 'Arataca',\n",
       "       'Condeúba', 'Jeremoabo', 'Jiquiriçá', 'Souto Soares', 'Planalto',\n",
       "       'Boninal', 'Bonito', 'Salinas da Margarida', 'Novo Triunfo',\n",
       "       'Guaratinga', 'Ituberá', 'Formosa do Rio Preto', 'Planaltino',\n",
       "       'Jitaúna', 'Laje', 'Mutuípe', 'São José da Vitória', 'Cipó',\n",
       "       'Água Fria', 'Maraú', 'Cândido Sales', 'Utinga', 'Coribe',\n",
       "       'Itacaré', 'Botuporã', 'Ichu', 'Igaporã', 'Sobradinho', 'Itaeté',\n",
       "       'Matina', 'Riacho de Santana', 'Ibirapuã', 'São Félix do Coribe',\n",
       "       'Ibititá', 'Barro Preto', 'Banzaê', 'Canavieiras', 'Belo Campo',\n",
       "       'Governador Mangabeira', 'Rafael Jambeiro', 'Olindina',\n",
       "       'Xique-Xique', 'Tanquinho', 'Crisópolis', 'Wenceslau Guimarães',\n",
       "       'Tapiramutá', 'Mulungu do Morro', 'Euclides da Cunha', 'Jussari',\n",
       "       'Santa Bárbara', 'Itiruçu', 'Casa Nova', 'Itatim', 'Ibipitanga',\n",
       "       'Barra', 'Tabocas do Brejo Velho', 'Central', 'Lençóis',\n",
       "       'Correntina', 'Mortugaba', 'Apuarema', 'Presidente Dutra',\n",
       "       'Aracatu', 'Santa Inês', 'Itaberaba', 'Rio do Pires', 'Cansanção',\n",
       "       'Paramirim', 'Canápolis', 'Encruzilhada', 'Nova Itarana',\n",
       "       'Morro do Chapéu', 'Barra do Rocha', 'Uauá', 'Candiba', 'Piritiba',\n",
       "       'Nilo Peçanha', 'Jaguarari', 'Macajuba', 'Ubatã', 'Filadélfia',\n",
       "       'Paripiranga', 'Antas', 'Caetanos', 'Jaguaripe', 'Aiquara',\n",
       "       'Itanagra', 'Érico Cardoso', 'Dom Basílio', 'Lajedão', 'Macururé',\n",
       "       'Glória', 'Ibiquera', 'Ribeira do Amparo', 'Caraíbas', 'Chorrochó',\n",
       "       'Brotas de Macaúbas', 'Mirangaba', 'Bom Jesus da Serra',\n",
       "       'Itapicuru', 'Itaguaçu da Bahia', 'Santanópolis', 'Ipecaetá',\n",
       "       'Nova Ibiá', 'Santa Brígida', 'Firmino Alves', 'Iraquara',\n",
       "       'Contendas do Sincorá', 'Muquém de São Francisco', 'Lajedinho',\n",
       "       'Lamarão'], dtype=object)"
      ]
     },
     "execution_count": 75,
     "metadata": {},
     "output_type": "execute_result"
    }
   ],
   "source": [
    "df2[\"Município\"].unique()"
   ]
  },
  {
   "cell_type": "code",
   "execution_count": null,
   "id": "853f0036",
   "metadata": {},
   "outputs": [],
   "source": []
  }
 ],
 "metadata": {
  "kernelspec": {
   "display_name": "Python 3 (ipykernel)",
   "language": "python",
   "name": "python3"
  },
  "language_info": {
   "codemirror_mode": {
    "name": "ipython",
    "version": 3
   },
   "file_extension": ".py",
   "mimetype": "text/x-python",
   "name": "python",
   "nbconvert_exporter": "python",
   "pygments_lexer": "ipython3",
   "version": "3.9.12"
  }
 },
 "nbformat": 4,
 "nbformat_minor": 5
}
